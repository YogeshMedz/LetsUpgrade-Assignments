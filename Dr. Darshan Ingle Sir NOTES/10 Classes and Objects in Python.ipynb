{
 "cells": [
  {
   "cell_type": "markdown",
   "metadata": {},
   "source": [
    "Python Classes and Objects\n",
    "--"
   ]
  },
  {
   "cell_type": "markdown",
   "metadata": {},
   "source": [
    "Python is an object oriented programming language.\n",
    "\n",
    "Almost everything in Python is an object, with its properties and methods.\n",
    "\n",
    "A Class is like an object constructor, or a \"blueprint\" for creating objects."
   ]
  },
  {
   "cell_type": "markdown",
   "metadata": {},
   "source": [
    "Object is anything in the real world that has some unique characteristics.It has state and behavior.\n",
    "eg: Mouse, keyboard, chair, table, etc\n",
    "\n",
    "Class is a collection of objects. It is a logical entity that has some specific attributes and methods.\n",
    "eg: If you have a student class, then it should contain an attribute and method viz name, standard, age, etc"
   ]
  },
  {
   "cell_type": "markdown",
   "metadata": {},
   "source": [
    "Inheritance means one object acquires properties and behavior of the parent object. \n",
    "\n",
    "The new class is known as the Derived class or Child class.\n",
    "\n",
    "And from which inherited the properties is called as Base class or Parent class.\n",
    "\n",
    "Inheritance provides reusability of the code."
   ]
  },
  {
   "cell_type": "markdown",
   "metadata": {},
   "source": [
    "Polymorphism: one object many forms."
   ]
  },
  {
   "cell_type": "markdown",
   "metadata": {},
   "source": [
    "Data Abstraction/Data Hiding"
   ]
  },
  {
   "cell_type": "markdown",
   "metadata": {},
   "source": [
    "Data Encapsulation/ Data Binding"
   ]
  },
  {
   "cell_type": "raw",
   "metadata": {},
   "source": [
    "Class definition\n",
    "\n",
    "class class_name:\n",
    "    stmnt1\n",
    "    stmnt2\n",
    "    stmnt3"
   ]
  },
  {
   "cell_type": "code",
   "execution_count": 1,
   "metadata": {},
   "outputs": [
    {
     "data": {
      "text/plain": [
       "4"
      ]
     },
     "execution_count": 1,
     "metadata": {},
     "output_type": "execute_result"
    }
   ],
   "source": [
    "x=4\n",
    "x"
   ]
  },
  {
   "cell_type": "code",
   "execution_count": 2,
   "metadata": {},
   "outputs": [
    {
     "data": {
      "text/plain": [
       "5"
      ]
     },
     "execution_count": 2,
     "metadata": {},
     "output_type": "execute_result"
    }
   ],
   "source": [
    "x=5\n",
    "x"
   ]
  },
  {
   "cell_type": "code",
   "execution_count": 6,
   "metadata": {},
   "outputs": [
    {
     "name": "stdout",
     "output_type": "stream",
     "text": [
      "Hello from IIT\n",
      "Hello from IIT\n"
     ]
    }
   ],
   "source": [
    "# Program to write simple class demonstration\n",
    "# type your code here\n",
    "class IIT:\n",
    "    def show(self):\n",
    "        print(\"Hello from IIT\")\n",
    "\n",
    "s1 = IIT()\n",
    "s1.show()\n",
    "\n",
    "s2 = IIT()\n",
    "s2.show()"
   ]
  },
  {
   "cell_type": "markdown",
   "metadata": {},
   "source": [
    "self attribute\n",
    "--\n",
    "\n",
    ">The first argument of every class method is always a reference to the current instance of the class.\n",
    "\n",
    ">By convention, this argument is always named 'self'.\n",
    "\n",
    ">It is a part of Python syntax to access members of objects.\n",
    "\n",
    ">__However, self is not a reserved keyword in Python, it is just a strong convention.__"
   ]
  },
  {
   "cell_type": "markdown",
   "metadata": {},
   "source": [
    "Private variables\n",
    "--\n",
    "\n",
    ">Private means the attributes are only available for the members of the class not outside of the class.\n",
    "\n",
    ">A private variable can only be changed within a class method, and not outside of the class.\n",
    "\n",
    ">In Python, private variables begin with double underscores __\n",
    "\n",
    ">Unlike other programming languages, Python private variables are not strict, they can be accessed outside of the class."
   ]
  },
  {
   "cell_type": "code",
   "execution_count": 7,
   "metadata": {},
   "outputs": [
    {
     "name": "stdout",
     "output_type": "stream",
     "text": [
      "Hello from class\n",
      "2\n"
     ]
    },
    {
     "ename": "AttributeError",
     "evalue": "'abc' object has no attribute '__v'",
     "output_type": "error",
     "traceback": [
      "\u001b[1;31m---------------------------------------------------------------------------\u001b[0m",
      "\u001b[1;31mAttributeError\u001b[0m                            Traceback (most recent call last)",
      "\u001b[1;32m<ipython-input-7-98fb1f67f283>\u001b[0m in \u001b[0;36m<module>\u001b[1;34m\u001b[0m\n\u001b[0;32m      9\u001b[0m \u001b[0ms\u001b[0m\u001b[1;33m.\u001b[0m\u001b[0mshow\u001b[0m\u001b[1;33m(\u001b[0m\u001b[1;33m)\u001b[0m\u001b[1;33m\u001b[0m\u001b[1;33m\u001b[0m\u001b[0m\n\u001b[0;32m     10\u001b[0m \u001b[0mprint\u001b[0m\u001b[1;33m(\u001b[0m\u001b[0ms\u001b[0m\u001b[1;33m.\u001b[0m\u001b[0my\u001b[0m\u001b[1;33m)\u001b[0m\u001b[1;33m\u001b[0m\u001b[1;33m\u001b[0m\u001b[0m\n\u001b[1;32m---> 11\u001b[1;33m \u001b[0mprint\u001b[0m\u001b[1;33m(\u001b[0m\u001b[0ms\u001b[0m\u001b[1;33m.\u001b[0m\u001b[0m__v\u001b[0m\u001b[1;33m)\u001b[0m \u001b[1;31m# gives error\u001b[0m\u001b[1;33m\u001b[0m\u001b[1;33m\u001b[0m\u001b[0m\n\u001b[0m",
      "\u001b[1;31mAttributeError\u001b[0m: 'abc' object has no attribute '__v'"
     ]
    }
   ],
   "source": [
    "# Program to use private variables\n",
    "class abc:\n",
    "    y=2\n",
    "    __v=4 # private var\n",
    "    def show(self):\n",
    "        print(\"Hello from class\")\n",
    "        \n",
    "s=abc()\n",
    "s.show()\n",
    "print(s.y)\n",
    "print(s.__v) # gives error"
   ]
  },
  {
   "cell_type": "code",
   "execution_count": 3,
   "metadata": {},
   "outputs": [
    {
     "name": "stdout",
     "output_type": "stream",
     "text": [
      "n= 3\n",
      "n1= 4\n"
     ]
    }
   ],
   "source": [
    "class abc:\n",
    "    def xyz(self,n):\n",
    "        n1=n+1\n",
    "        print(\"n=\",n)\n",
    "        print(\"n1=\",n1)\n",
    "o = abc()\n",
    "o.xyz(3)        "
   ]
  },
  {
   "cell_type": "code",
   "execution_count": 4,
   "metadata": {},
   "outputs": [
    {
     "name": "stdout",
     "output_type": "stream",
     "text": [
      "n= 3\n",
      "n1= 3\n"
     ]
    }
   ],
   "source": [
    "class abc:\n",
    "    def xyz(self,n):\n",
    "        n1=n\n",
    "        print(\"n=\",n)\n",
    "        print(\"n1=\",n1)\n",
    "o = abc()\n",
    "o.xyz(3)        "
   ]
  },
  {
   "cell_type": "code",
   "execution_count": 5,
   "metadata": {},
   "outputs": [
    {
     "name": "stdout",
     "output_type": "stream",
     "text": [
      "n= 3\n",
      "n= 3\n"
     ]
    }
   ],
   "source": [
    "class abc:\n",
    "    def xyz(self,n):\n",
    "        n=n\n",
    "        print(\"n=\",n)\n",
    "        print(\"n=\",n)\n",
    "o = abc()\n",
    "o.xyz(3)        "
   ]
  },
  {
   "cell_type": "code",
   "execution_count": 3,
   "metadata": {},
   "outputs": [
    {
     "name": "stdout",
     "output_type": "stream",
     "text": [
      "n= 3\n",
      "self.n= 3\n",
      "n= 3\n",
      "self.n= 4\n"
     ]
    }
   ],
   "source": [
    "class abc:\n",
    "    def xyz(self,n):\n",
    "        self.n=n\n",
    "        print(\"n=\",n)\n",
    "        print(\"self.n=\",self.n)\n",
    "        self.n = n+1\n",
    "        print(\"n=\",n)\n",
    "        print(\"self.n=\",self.n)\n",
    "o = abc()\n",
    "o.xyz(3)        "
   ]
  },
  {
   "cell_type": "markdown",
   "metadata": {},
   "source": [
    "Instances as arguments\n",
    "--\n",
    "\n",
    "The class instance variables are always prefixed with reserved word 'self' and typically initialized in a constructor method named __init__"
   ]
  },
  {
   "cell_type": "code",
   "execution_count": 16,
   "metadata": {},
   "outputs": [
    {
     "name": "stdout",
     "output_type": "stream",
     "text": [
      "I am second constructor\n",
      "Hi\n"
     ]
    }
   ],
   "source": [
    "class xyz:\n",
    "    def __init__(self):\n",
    "        print(\"i am initializing you\")\n",
    "    def __init__(self):\n",
    "        print(\"I am second constructor\")\n",
    "    def mno(self):\n",
    "        print(\"Hi\")\n",
    "s=xyz()\n",
    "s.mno()"
   ]
  },
  {
   "cell_type": "code",
   "execution_count": 18,
   "metadata": {},
   "outputs": [
    {
     "name": "stdout",
     "output_type": "stream",
     "text": [
      "I am second constructor and the value i I got is 45\n",
      "Hi\n"
     ]
    }
   ],
   "source": [
    "class xyz:\n",
    "    def __init__(self):\n",
    "        print(\"i am initializing you\")\n",
    "    def __init__(self,n):\n",
    "        print(\"I am second constructor and the value i I got is\",n)\n",
    "    def mno(self):\n",
    "        print(\"Hi\")\n",
    "s=xyz(45)\n",
    "s.mno()"
   ]
  },
  {
   "cell_type": "code",
   "execution_count": 10,
   "metadata": {},
   "outputs": [
    {
     "name": "stdout",
     "output_type": "stream",
     "text": [
      "4\n",
      "5\n",
      "20\n",
      "Hi\n"
     ]
    }
   ],
   "source": [
    "class xyz:\n",
    "    def __init__(self,n):\n",
    "        self.n1=n+1\n",
    "        print(n)\n",
    "        print(self.n1)\n",
    "        print(self.n1*n)\n",
    "    def mno(self):\n",
    "        print(\"Hi\")\n",
    "s=xyz(4)\n",
    "s.mno()"
   ]
  },
  {
   "cell_type": "code",
   "execution_count": 19,
   "metadata": {},
   "outputs": [
    {
     "name": "stdout",
     "output_type": "stream",
     "text": [
      "4\n",
      "5\n"
     ]
    }
   ],
   "source": [
    "class xyz:\n",
    "    def __init__(self,n):\n",
    "        self.n=n+1\n",
    "        print(n)\n",
    "        print(self.n)\n",
    "        \n",
    "s=xyz(4)"
   ]
  },
  {
   "cell_type": "markdown",
   "metadata": {},
   "source": [
    "Instances a return values\n",
    "--\n",
    "\n",
    "In Python, methods and functions can return class instances."
   ]
  },
  {
   "cell_type": "code",
   "execution_count": 20,
   "metadata": {},
   "outputs": [
    {
     "data": {
      "text/plain": [
       "7"
      ]
     },
     "execution_count": 20,
     "metadata": {},
     "output_type": "execute_result"
    }
   ],
   "source": [
    "# Program to use instances as return values\n",
    "class st:\n",
    "    def add(self,a,b):\n",
    "        self.a=a\n",
    "        self.b=b\n",
    "        return self.a+self.b\n",
    "\n",
    "s=st()\n",
    "s.add(4,3)"
   ]
  },
  {
   "cell_type": "code",
   "execution_count": 21,
   "metadata": {},
   "outputs": [
    {
     "name": "stdout",
     "output_type": "stream",
     "text": [
      "4\n",
      "3\n"
     ]
    }
   ],
   "source": [
    "# Program to use instances as return values using __init__\n",
    "class st:\n",
    "    def __init__(self,a,b):\n",
    "        self.a=a\n",
    "        self.b=b\n",
    "\n",
    "s=st(4,3)\n",
    "print(s.a)\n",
    "print(s.b)"
   ]
  },
  {
   "cell_type": "markdown",
   "metadata": {},
   "source": [
    "__del__()\n",
    "--\n",
    "\n",
    "It is used when you want to destroy an instance of the class which is no longer referenced.\n",
    "\n"
   ]
  },
  {
   "cell_type": "code",
   "execution_count": 22,
   "metadata": {},
   "outputs": [
    {
     "name": "stdout",
     "output_type": "stream",
     "text": [
      "Hello  Darshan\n",
      "Hello  Python\n"
     ]
    }
   ],
   "source": [
    "# Program to delete object of a class.\n",
    "class abc:\n",
    "    def __init__(self,n): #Parameterized constructor\n",
    "        print(\"Hello \",n)\n",
    "    def __del__(self):\n",
    "        print(\"Object deleted\")\n",
    "\n",
    "s1=abc(\"Darshan\")\n",
    "s2=abc(\"Python\")        "
   ]
  },
  {
   "cell_type": "markdown",
   "metadata": {},
   "source": [
    "Inheritance\n",
    "--"
   ]
  },
  {
   "cell_type": "raw",
   "metadata": {},
   "source": [
    "Syntax:\n",
    "class base_class:\n",
    "    stmnts\n",
    "class derived_class:\n",
    "    stmnts"
   ]
  },
  {
   "cell_type": "code",
   "execution_count": 26,
   "metadata": {},
   "outputs": [
    {
     "name": "stdout",
     "output_type": "stream",
     "text": [
      "Base class here!!!\n"
     ]
    },
    {
     "ename": "AttributeError",
     "evalue": "'abc' object has no attribute 's2'",
     "output_type": "error",
     "traceback": [
      "\u001b[1;31m---------------------------------------------------------------------------\u001b[0m",
      "\u001b[1;31mAttributeError\u001b[0m                            Traceback (most recent call last)",
      "\u001b[1;32m<ipython-input-26-a6fe3bfdc9d9>\u001b[0m in \u001b[0;36m<module>\u001b[1;34m\u001b[0m\n\u001b[0;32m     10\u001b[0m \u001b[0mobj\u001b[0m \u001b[1;33m=\u001b[0m \u001b[0mabc\u001b[0m\u001b[1;33m(\u001b[0m\u001b[1;33m)\u001b[0m\u001b[1;33m\u001b[0m\u001b[1;33m\u001b[0m\u001b[0m\n\u001b[0;32m     11\u001b[0m \u001b[0mobj\u001b[0m\u001b[1;33m.\u001b[0m\u001b[0ms1\u001b[0m\u001b[1;33m(\u001b[0m\u001b[1;33m)\u001b[0m\u001b[1;33m\u001b[0m\u001b[1;33m\u001b[0m\u001b[0m\n\u001b[1;32m---> 12\u001b[1;33m \u001b[0mobj\u001b[0m\u001b[1;33m.\u001b[0m\u001b[0ms2\u001b[0m\u001b[1;33m(\u001b[0m\u001b[1;33m)\u001b[0m\u001b[1;33m\u001b[0m\u001b[1;33m\u001b[0m\u001b[0m\n\u001b[0m\u001b[0;32m     13\u001b[0m \u001b[1;31m#type your code here\u001b[0m\u001b[1;33m\u001b[0m\u001b[1;33m\u001b[0m\u001b[1;33m\u001b[0m\u001b[0m\n\u001b[0;32m     14\u001b[0m \u001b[1;31m# o = xyz()\u001b[0m\u001b[1;33m\u001b[0m\u001b[1;33m\u001b[0m\u001b[1;33m\u001b[0m\u001b[0m\n",
      "\u001b[1;31mAttributeError\u001b[0m: 'abc' object has no attribute 's2'"
     ]
    }
   ],
   "source": [
    "# Program to use single inheritance\n",
    "class abc:\n",
    "    def s1(self):\n",
    "        print(\"Base class here!!!\")\n",
    "        \n",
    "class xyz(abc):\n",
    "    def s2(self):\n",
    "        print(\"Derived class here!!\")\n",
    "\n",
    "obj = abc()\n",
    "obj.s1()\n",
    "obj.s2()\n",
    "#type your code here\n",
    "# o = xyz()\n",
    "# o.s2()\n",
    "# o.s1()"
   ]
  },
  {
   "cell_type": "raw",
   "metadata": {},
   "source": [
    "Multiple Inheritance in Python\n",
    "\n",
    "Base1,Base2 -> Derived"
   ]
  },
  {
   "cell_type": "code",
   "execution_count": 27,
   "metadata": {},
   "outputs": [
    {
     "name": "stdout",
     "output_type": "stream",
     "text": [
      "num1:  7\n",
      "num2:  10\n",
      "17\n"
     ]
    }
   ],
   "source": [
    "# Program to use Multiple inheritance\n",
    "class st1:\n",
    "    def num1(self):\n",
    "        self.n1=7\n",
    "        print(\"num1: \",self.n1)\n",
    "class st2:\n",
    "    def num2(self):\n",
    "        self.n2=10\n",
    "        print(\"num2: \",self.n2)\n",
    "\n",
    "# type your code here\n",
    "class st(st1,st2):\n",
    "    def add(self):\n",
    "        return self.n1+self.n2\n",
    "\n",
    "\n",
    "s=st()\n",
    "s.num1()\n",
    "s.num2()\n",
    "print(s.add())"
   ]
  },
  {
   "cell_type": "markdown",
   "metadata": {},
   "source": [
    "Method overriding\n",
    "--\n",
    "\n",
    "It allows subclass or a child class to provide a specific implementation of a method that is already provided by one of its super classes or parent classes.\n",
    "\n",
    "One reason for overriding parents method is you may want special or different functionality in your subclass."
   ]
  },
  {
   "cell_type": "code",
   "execution_count": 30,
   "metadata": {},
   "outputs": [
    {
     "name": "stdout",
     "output_type": "stream",
     "text": [
      "Derived of Derived class method called\n"
     ]
    }
   ],
   "source": [
    "# Program to use Method Overriding\n",
    "class T:\n",
    "    def show(self):\n",
    "        print(\"Base class method called\")\n",
    "class S(T):\n",
    "    def show(self):\n",
    "        print(\"Derived class method called\")\n",
    "\n",
    "class X(S):\n",
    "    def show(self):\n",
    "        print(\"Derived of Derived class method called\")\n",
    "#type your code here\n",
    "v = X()\n",
    "v.show()"
   ]
  }
 ],
 "metadata": {
  "kernelspec": {
   "display_name": "Python 3",
   "language": "python",
   "name": "python3"
  },
  "language_info": {
   "codemirror_mode": {
    "name": "ipython",
    "version": 3
   },
   "file_extension": ".py",
   "mimetype": "text/x-python",
   "name": "python",
   "nbconvert_exporter": "python",
   "pygments_lexer": "ipython3",
   "version": "3.7.4"
  },
  "toc": {
   "base_numbering": 1,
   "nav_menu": {},
   "number_sections": true,
   "sideBar": true,
   "skip_h1_title": false,
   "title_cell": "Table of Contents",
   "title_sidebar": "Contents",
   "toc_cell": false,
   "toc_position": {},
   "toc_section_display": true,
   "toc_window_display": false
  }
 },
 "nbformat": 4,
 "nbformat_minor": 2
}
