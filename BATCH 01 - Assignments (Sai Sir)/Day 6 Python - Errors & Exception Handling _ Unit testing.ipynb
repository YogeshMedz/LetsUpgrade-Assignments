{
 "cells": [
  {
   "cell_type": "code",
   "execution_count": 6,
   "metadata": {},
   "outputs": [
    {
     "name": "stdout",
     "output_type": "stream",
     "text": [
      "There is an error\n",
      "hi\n"
     ]
    }
   ],
   "source": [
    "try:\n",
    "    print(10/0)\n",
    "except :\n",
    "    print(\"There is an error\")\n",
    "    \n",
    "print(\"hi\")"
   ]
  },
  {
   "cell_type": "code",
   "execution_count": 9,
   "metadata": {},
   "outputs": [
    {
     "ename": "UnsupportedOperation",
     "evalue": "not writable",
     "output_type": "error",
     "traceback": [
      "\u001b[0;31m---------------------------------------------------------------------------\u001b[0m",
      "\u001b[0;31mUnsupportedOperation\u001b[0m                      Traceback (most recent call last)",
      "\u001b[0;32m<ipython-input-9-81c5220c4275>\u001b[0m in \u001b[0;36m<module>\u001b[0;34m\u001b[0m\n\u001b[1;32m      1\u001b[0m \u001b[0mfile\u001b[0m \u001b[0;34m=\u001b[0m \u001b[0mopen\u001b[0m\u001b[0;34m(\u001b[0m\u001b[0;34m\"fcs.txt\"\u001b[0m\u001b[0;34m,\u001b[0m\u001b[0;34m\"r\"\u001b[0m\u001b[0;34m)\u001b[0m\u001b[0;34m\u001b[0m\u001b[0;34m\u001b[0m\u001b[0m\n\u001b[0;32m----> 2\u001b[0;31m \u001b[0mfile\u001b[0m\u001b[0;34m.\u001b[0m\u001b[0mwrite\u001b[0m\u001b[0;34m(\u001b[0m\u001b[0;34m\"Hey we are loving the class\"\u001b[0m\u001b[0;34m)\u001b[0m\u001b[0;34m\u001b[0m\u001b[0;34m\u001b[0m\u001b[0m\n\u001b[0m\u001b[1;32m      3\u001b[0m \u001b[0mfile\u001b[0m\u001b[0;34m.\u001b[0m\u001b[0mclose\u001b[0m\u001b[0;34m(\u001b[0m\u001b[0;34m)\u001b[0m\u001b[0;34m\u001b[0m\u001b[0;34m\u001b[0m\u001b[0m\n",
      "\u001b[0;31mUnsupportedOperation\u001b[0m: not writable"
     ]
    }
   ],
   "source": [
    "file = open(\"fcs.txt\",\"r\")\n",
    "file.write(\"Hey we are loving the class\")\n",
    "file.close()"
   ]
  },
  {
   "cell_type": "code",
   "execution_count": 15,
   "metadata": {},
   "outputs": [
    {
     "name": "stdout",
     "output_type": "stream",
     "text": [
      "File mode is differnt\n",
      "I am Finally : I will print no matter who wins in my above brothers\n"
     ]
    }
   ],
   "source": [
    "try:\n",
    "    file = open(\"fcs.txt\",\"r\")\n",
    "    file.write(\"Hey we are loving the class\")\n",
    "    file.close()\n",
    "    print(\"try is working fine\")\n",
    "    \n",
    "except OSError:\n",
    "    print(\"File mode is differnt\")\n",
    "\n",
    "finally:\n",
    "    print(\"I am Finally : I will print no matter who wins in my above brothers\")"
   ]
  },
  {
   "cell_type": "code",
   "execution_count": 39,
   "metadata": {},
   "outputs": [
    {
     "name": "stdout",
     "output_type": "stream",
     "text": [
      "Your Error -  not writable\n",
      "I am Finally : I will print no matter who wins in my above brothers\n"
     ]
    }
   ],
   "source": [
    "try:\n",
    "    file = open(\"fcs.txt\",\"r\")\n",
    "    file.write(\"Hey we are loving the class\")\n",
    "    file.close()\n",
    "    print(\"try is working fine\")\n",
    "    \n",
    "except Exception as e:\n",
    "    print(\"Your Error - \", e)\n",
    "else:\n",
    "    print(\"I am else block \")\n",
    "finally:\n",
    "    print(\"I am Finally : I will print no matter who wins in my above brothers\")"
   ]
  },
  {
   "cell_type": "code",
   "execution_count": 25,
   "metadata": {},
   "outputs": [
    {
     "name": "stdout",
     "output_type": "stream",
     "text": [
      "Ask everyone to submit there assignemnts\n",
      "Sai has to end the batch regardless of assignments submission\n"
     ]
    }
   ],
   "source": [
    "try:\n",
    "    raise NameError(\"Hi there\")  # Raise Error \n",
    "    print(\"if all have submitted there assignmets \")\n",
    "    \n",
    "except :\n",
    "    print(\"Ask everyone to submit there assignemnts\")\n",
    "else:\n",
    "    print(\"please check them - logic realted to check the assignments\")\n",
    "finally:\n",
    "    print(\"Sai has to end the batch regardless of assignments submission\")\n",
    "    "
   ]
  },
  {
   "cell_type": "code",
   "execution_count": 34,
   "metadata": {},
   "outputs": [],
   "source": [
    "def ask_input():\n",
    "    number = \"\"\n",
    "    while True:\n",
    "        try:\n",
    "            number = int(input(\"Enter a Number - \"))\n",
    "        except:\n",
    "            print(\"Enter a Number not a Char\")\n",
    "            continue\n",
    "        else:\n",
    "            print(\"Thank you we got a number\")\n",
    "            break\n",
    "        finally:\n",
    "            print(\"Number = \",number)"
   ]
  },
  {
   "cell_type": "code",
   "execution_count": 35,
   "metadata": {},
   "outputs": [
    {
     "name": "stdout",
     "output_type": "stream",
     "text": [
      "Enter a Number - r\n",
      "Enter a Number not a Char\n",
      "Number =  \n",
      "Enter a Number - f\n",
      "Enter a Number not a Char\n",
      "Number =  \n",
      "Enter a Number - 4\n",
      "Thank you we got a number\n",
      "Number =  4\n"
     ]
    }
   ],
   "source": [
    "ask_input()"
   ]
  },
  {
   "cell_type": "markdown",
   "metadata": {},
   "source": [
    "# Unit Testing"
   ]
  },
  {
   "cell_type": "code",
   "execution_count": null,
   "metadata": {},
   "outputs": [],
   "source": []
  }
 ],
 "metadata": {
  "kernelspec": {
   "display_name": "Python 3",
   "language": "python",
   "name": "python3"
  },
  "language_info": {
   "codemirror_mode": {
    "name": "ipython",
    "version": 3
   },
   "file_extension": ".py",
   "mimetype": "text/x-python",
   "name": "python",
   "nbconvert_exporter": "python",
   "pygments_lexer": "ipython3",
   "version": "3.7.4"
  }
 },
 "nbformat": 4,
 "nbformat_minor": 2
}
