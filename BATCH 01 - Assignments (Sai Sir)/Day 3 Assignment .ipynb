{
 "cells": [
  {
   "cell_type": "code",
   "execution_count": 49,
   "metadata": {},
   "outputs": [],
   "source": [
    "#Input module \n",
    "def input_Module():\n",
    "    lst = []\n",
    "    i = 1\n",
    "    while(i<=8):  \n",
    "        temp = int(input(\"Enter Element \"))\n",
    "        lst.append(temp)\n",
    "        i += 1\n",
    "    return lst\n",
    "    \n"
   ]
  },
  {
   "cell_type": "code",
   "execution_count": 5,
   "metadata": {},
   "outputs": [
    {
     "name": "stdout",
     "output_type": "stream",
     "text": [
      "Enter Element 1\n",
      "Enter Element 1\n",
      "Enter Element 5\n",
      "Enter Element 2\n",
      "Enter Element 3\n",
      "Enter Element 4\n",
      "Enter Element 5\n",
      "Enter Element 6\n",
      "[1, 1, 5, 2, 3, 4, 5, 6]\n"
     ]
    }
   ],
   "source": [
    "input_Module()"
   ]
  },
  {
   "cell_type": "code",
   "execution_count": 43,
   "metadata": {},
   "outputs": [
    {
     "name": "stdout",
     "output_type": "stream",
     "text": [
      "[1, 5]\n",
      "[1, 5]\n",
      "its gone\n"
     ]
    }
   ],
   "source": [
    "lst1 = [1, 5, 2, 1, 4, 5, 6,1]\n",
    "\n",
    "sub_lst = [1,1,5]\n",
    "\n",
    "i =0\n",
    "while(i<=8):\n",
    "    if (len(sub_lst)>0 and lst1[i] == sub_lst[0]):\n",
    "        sub_lst.pop(0)\n",
    "        print(sub_lst)\n",
    "    else:\n",
    "        break\n",
    "    i +=1\n",
    "\n",
    "print(sub_lst)\n",
    "\n",
    "if(len(sub_lst) == 0):\n",
    "    print(\"its a match\")\n",
    "else:\n",
    "    print(\"its gone\")"
   ]
  },
  {
   "cell_type": "code",
   "execution_count": 45,
   "metadata": {},
   "outputs": [],
   "source": [
    "def check_the_sub_lst(lst):\n",
    "    sub_lst = [1,1,5]\n",
    "    for i in range(0,8):\n",
    "        if(lst[i] == sub_lst[0]):\n",
    "            sub_lst.pop(0)\n",
    "        if(len(sub_lst) == 0):\n",
    "            break\n",
    "    if(len(sub_lst) == 0 ):\n",
    "        return \"its a match\"\n",
    "    else:\n",
    "        return \"its gone\""
   ]
  },
  {
   "cell_type": "code",
   "execution_count": 54,
   "metadata": {},
   "outputs": [
    {
     "name": "stdout",
     "output_type": "stream",
     "text": [
      "Enter Element 1\n",
      "Enter Element 1\n",
      "Enter Element 2\n",
      "Enter Element 2\n",
      "Enter Element 2\n",
      "Enter Element 2\n",
      "Enter Element 2\n",
      "Enter Element 2\n",
      " \n",
      " \n",
      " \n",
      "its gone\n"
     ]
    }
   ],
   "source": [
    "#Main code \n",
    "\n",
    "new_lst = input_Module()\n",
    "print(\" \")\n",
    "print(\" \")\n",
    "print(\" \")\n",
    "soultion = check_the_sub_lst(new_lst)"
   ]
  },
  {
   "cell_type": "code",
   "execution_count": 57,
   "metadata": {},
   "outputs": [
    {
     "name": "stdout",
     "output_type": "stream",
     "text": [
      "0\n",
      "1\n",
      "2\n",
      "3\n",
      "4\n",
      "5\n",
      "6\n",
      "7\n",
      "8\n",
      "9\n"
     ]
    }
   ],
   "source": [
    "# Normal Loop \n",
    "\n",
    "for i in range(0,10):\n",
    "    print(i)"
   ]
  },
  {
   "cell_type": "code",
   "execution_count": 58,
   "metadata": {},
   "outputs": [
    {
     "name": "stdout",
     "output_type": "stream",
     "text": [
      "0\n",
      "1\n",
      "2\n",
      "3\n",
      "4\n",
      "5\n"
     ]
    }
   ],
   "source": [
    "# Break \n",
    "\n",
    "for i in range(0,10):\n",
    "    print(i)\n",
    "    if(i == 5):\n",
    "        break"
   ]
  },
  {
   "cell_type": "code",
   "execution_count": 59,
   "metadata": {},
   "outputs": [
    {
     "name": "stdout",
     "output_type": "stream",
     "text": [
      "0\n",
      "1\n",
      "2\n",
      "3\n",
      "4\n",
      "6\n",
      "7\n",
      "8\n",
      "9\n"
     ]
    }
   ],
   "source": [
    "# Continue \n",
    "\n",
    "for i in range(0,10):\n",
    "    if(i == 5):\n",
    "        continue\n",
    "    print(i)"
   ]
  },
  {
   "cell_type": "code",
   "execution_count": 60,
   "metadata": {},
   "outputs": [
    {
     "name": "stdout",
     "output_type": "stream",
     "text": [
      "0\n",
      "1\n",
      "2\n",
      "3\n",
      "4\n",
      "5\n",
      "6\n",
      "7\n",
      "8\n",
      "9\n"
     ]
    }
   ],
   "source": [
    "# Pass  \n",
    "\n",
    "for i in range(0,10):\n",
    "    if(i == 5):\n",
    "        pass\n",
    "    print(i)"
   ]
  },
  {
   "cell_type": "code",
   "execution_count": 61,
   "metadata": {},
   "outputs": [],
   "source": [
    "def fun():\n",
    "    pass"
   ]
  },
  {
   "cell_type": "code",
   "execution_count": 62,
   "metadata": {},
   "outputs": [],
   "source": [
    "fun()"
   ]
  },
  {
   "cell_type": "code",
   "execution_count": null,
   "metadata": {},
   "outputs": [],
   "source": []
  }
 ],
 "metadata": {
  "kernelspec": {
   "display_name": "Python 3",
   "language": "python",
   "name": "python3"
  },
  "language_info": {
   "codemirror_mode": {
    "name": "ipython",
    "version": 3
   },
   "file_extension": ".py",
   "mimetype": "text/x-python",
   "name": "python",
   "nbconvert_exporter": "python",
   "pygments_lexer": "ipython3",
   "version": "3.7.4"
  }
 },
 "nbformat": 4,
 "nbformat_minor": 2
}
