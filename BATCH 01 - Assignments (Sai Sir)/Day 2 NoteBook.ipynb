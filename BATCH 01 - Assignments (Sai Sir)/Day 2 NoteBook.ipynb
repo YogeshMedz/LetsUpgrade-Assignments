{
 "cells": [
  {
   "cell_type": "code",
   "execution_count": null,
   "metadata": {},
   "outputs": [],
   "source": [
    "#file handling \n",
    "\n",
    "\n",
    "#Create a File \n",
    "\n",
    "\n",
    "file = open('fcs1.txt','w')\n",
    "\n",
    "file.write(\"Hey we are coding along Python Files \\n\")\n",
    "file.write(\"We are completing today File handling\")\n",
    "\n",
    "file.close()\n",
    "\n"
   ]
  },
  {
   "cell_type": "code",
   "execution_count": null,
   "metadata": {},
   "outputs": [],
   "source": [
    "# Open a file and print the output \n",
    "\n",
    "file = open('fcs.txt','r')\n",
    "\n",
    "data = file.read()\n",
    "\n",
    "print(data)\n",
    "\n",
    "file.close()"
   ]
  },
  {
   "cell_type": "code",
   "execution_count": null,
   "metadata": {},
   "outputs": [],
   "source": [
    "# Append a file and print it \n",
    "\n",
    "file = open('fcs.txt','a')\n",
    "\n",
    "file.write(\"\\n LetsUpgrade\")\n",
    "\n",
    "file.close()"
   ]
  },
  {
   "cell_type": "code",
   "execution_count": null,
   "metadata": {},
   "outputs": [],
   "source": [
    "with open(\"fcs.txt\") as file:  \n",
    "    data = file.read() \n",
    "    print(data)\n"
   ]
  },
  {
   "cell_type": "code",
   "execution_count": null,
   "metadata": {},
   "outputs": [],
   "source": [
    "# Operators \n",
    "\n",
    "a = 10 \n",
    "b = 20 \n",
    "print(a==b)\n",
    "print(a!=b)\n",
    "print(a<b)\n",
    "print(a>b)\n",
    "print(a<=b)\n",
    "print(a>=b)"
   ]
  },
  {
   "cell_type": "code",
   "execution_count": null,
   "metadata": {},
   "outputs": [],
   "source": [
    "# Logical Comperison Operators - \n",
    "\n",
    "#AND, OR, NOT \n",
    "\n",
    "#AND \n",
    "\n",
    "a = 10 \n",
    "b = 9 \n",
    "c = 8 \n",
    "\n",
    "print ( a > b and a < c)\n",
    "\n",
    "#in and both the condistions should be true "
   ]
  },
  {
   "cell_type": "code",
   "execution_count": null,
   "metadata": {},
   "outputs": [],
   "source": [
    "# Logical Comperison Operators - \n",
    "\n",
    "#OR \n",
    "\n",
    "a = 10 \n",
    "b = 9 \n",
    "c = 8 \n",
    "\n",
    "print ( a > b or a < c)\n",
    "\n",
    "#in OR any one of the condistions should be true "
   ]
  },
  {
   "cell_type": "code",
   "execution_count": null,
   "metadata": {},
   "outputs": [],
   "source": [
    "# Logical Comperison Operators - \n",
    "\n",
    "#NOT \n",
    "\n",
    "a = 10 \n",
    "b = 9 \n",
    "c = 8 \n",
    "\n",
    "data = a > b and a < c\n",
    "print ( data )\n",
    "print ( not data)\n",
    "\n",
    "#in and both the condistions should be true "
   ]
  },
  {
   "cell_type": "code",
   "execution_count": null,
   "metadata": {},
   "outputs": [],
   "source": [
    "# IF ELIF Else\n",
    "\n",
    "students = \"not live\"\n",
    "a = 1 \n",
    "\n",
    "if(students == \"live\"):\n",
    "    print(\"Sai will teach\")\n",
    "    print(\"sai will teach again\")\n",
    "    \n",
    "elif (students == \"not live\"):\n",
    "    print(\"Sai will not teach\")\n",
    "    if (a == 1):\n",
    "        print('ok we are inside one')\n",
    "    \n",
    "else:\n",
    "    print(\"Sai is lost\")\n",
    "    "
   ]
  },
  {
   "cell_type": "code",
   "execution_count": null,
   "metadata": {},
   "outputs": [],
   "source": [
    "value = input(\"Enter something - \")\n",
    "\n",
    "print(value)"
   ]
  },
  {
   "cell_type": "code",
   "execution_count": null,
   "metadata": {},
   "outputs": [],
   "source": [
    "# Loops - \n",
    "\n",
    "\n",
    "lst = [1,2,3,4,5,6,7,8,9,\"sai\"]\n",
    "\n",
    "for item in lst:\n",
    "    print(item)"
   ]
  },
  {
   "cell_type": "code",
   "execution_count": null,
   "metadata": {},
   "outputs": [],
   "source": [
    "string = \"Hey guys, I want to meet you all and teach\"\n",
    "\n",
    "for item in string:\n",
    "    print(item)"
   ]
  },
  {
   "cell_type": "code",
   "execution_count": null,
   "metadata": {},
   "outputs": [],
   "source": [
    "a = 1\n",
    "\n",
    "while(a < 10 ):\n",
    "    print(a)\n",
    "#     a = a + 1 \n",
    "    \n",
    "    a += 1\n"
   ]
  },
  {
   "cell_type": "code",
   "execution_count": null,
   "metadata": {},
   "outputs": [],
   "source": [
    "# Python code to illustrate with()\n",
    "\n",
    "with open(\"fcs.txt\") as file:  \n",
    "    data = file.read() \n",
    "    print(data)\n",
    "\n",
    "    # do something with data \n"
   ]
  },
  {
   "cell_type": "code",
   "execution_count": null,
   "metadata": {},
   "outputs": [],
   "source": [
    "file = open('fcs.txt','r')\n",
    "\n",
    "print(file.read())\n",
    "\n",
    "file.close()"
   ]
  },
  {
   "cell_type": "code",
   "execution_count": null,
   "metadata": {},
   "outputs": [],
   "source": [
    "with open(\"fcs.txt\", \"r\") as file: \n",
    "    data = file.readlines() \n",
    "    print(data)\n",
    "        \n",
    "print(\"\\n\")\n",
    "print(\"\\n\")\n",
    "    \n",
    "for line in data:\n",
    "    word = line.split() \n",
    "    print(word)"
   ]
  },
  {
   "cell_type": "code",
   "execution_count": 1,
   "metadata": {},
   "outputs": [
    {
     "name": "stdout",
     "output_type": "stream",
     "text": [
      "sai\n",
      "sai\n",
      "sai\n",
      "sai\n",
      "sai\n",
      "sai\n",
      "sai\n",
      "sai\n",
      "sai\n",
      "sai\n"
     ]
    }
   ],
   "source": [
    "i = 1;\n",
    "\n",
    "while(i<=10):\n",
    "    i += 1\n",
    "    print(\"sai\")"
   ]
  },
  {
   "cell_type": "code",
   "execution_count": 2,
   "metadata": {},
   "outputs": [],
   "source": [
    "lst = [1,2,3,4,5]"
   ]
  },
  {
   "cell_type": "code",
   "execution_count": 5,
   "metadata": {},
   "outputs": [
    {
     "name": "stdout",
     "output_type": "stream",
     "text": [
      "Help on built-in function append:\n",
      "\n",
      "append(object, /) method of builtins.list instance\n",
      "    Append object to the end of the list.\n",
      "\n"
     ]
    }
   ],
   "source": [
    "help(lst.append)"
   ]
  },
  {
   "cell_type": "code",
   "execution_count": 6,
   "metadata": {},
   "outputs": [
    {
     "name": "stdout",
     "output_type": "stream",
     "text": [
      "Help on built-in function clear:\n",
      "\n",
      "clear() method of builtins.list instance\n",
      "    Remove all items from list.\n",
      "\n"
     ]
    }
   ],
   "source": [
    "help(lst.clear)"
   ]
  },
  {
   "cell_type": "code",
   "execution_count": 7,
   "metadata": {},
   "outputs": [
    {
     "name": "stdout",
     "output_type": "stream",
     "text": [
      "Help on built-in function extend:\n",
      "\n",
      "extend(iterable, /) method of builtins.list instance\n",
      "    Extend list by appending elements from the iterable.\n",
      "\n"
     ]
    }
   ],
   "source": [
    "help(lst.extend)"
   ]
  },
  {
   "cell_type": "code",
   "execution_count": 8,
   "metadata": {},
   "outputs": [
    {
     "name": "stdout",
     "output_type": "stream",
     "text": [
      "Help on built-in function insert:\n",
      "\n",
      "insert(index, object, /) method of builtins.list instance\n",
      "    Insert object before index.\n",
      "\n"
     ]
    }
   ],
   "source": [
    "help(lst.insert)"
   ]
  },
  {
   "cell_type": "code",
   "execution_count": null,
   "metadata": {},
   "outputs": [],
   "source": []
  }
 ],
 "metadata": {
  "kernelspec": {
   "display_name": "Python 3",
   "language": "python",
   "name": "python3"
  },
  "language_info": {
   "codemirror_mode": {
    "name": "ipython",
    "version": 3
   },
   "file_extension": ".py",
   "mimetype": "text/x-python",
   "name": "python",
   "nbconvert_exporter": "python",
   "pygments_lexer": "ipython3",
   "version": "3.7.4"
  }
 },
 "nbformat": 4,
 "nbformat_minor": 2
}
