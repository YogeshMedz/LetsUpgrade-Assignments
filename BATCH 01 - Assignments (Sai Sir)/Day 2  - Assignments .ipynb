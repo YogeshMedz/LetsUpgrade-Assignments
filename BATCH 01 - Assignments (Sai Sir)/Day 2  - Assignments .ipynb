{
 "cells": [
  {
   "cell_type": "code",
   "execution_count": null,
   "metadata": {},
   "outputs": [],
   "source": [
    "#Assignment One - \n",
    "\n",
    "\n",
    "file = open(\"assignment3.txt\",'w')\n",
    "\n",
    "file.write(\"I love and live for FCS\")\n",
    "\n",
    "file.close()\n",
    "\n"
   ]
  },
  {
   "cell_type": "code",
   "execution_count": null,
   "metadata": {},
   "outputs": [],
   "source": [
    "file = open(\"assignment3.txt\",'r')\n",
    "\n",
    "print(file.read())\n",
    "\n",
    "file.close()"
   ]
  },
  {
   "cell_type": "code",
   "execution_count": null,
   "metadata": {},
   "outputs": [],
   "source": [
    "#assignment 2 - \n",
    "\n",
    "marks = int(input(\"Enter your marks - \"))\n",
    "\n",
    "if(marks >= 85):\n",
    "    print(\"A\")\n",
    "elif (marks>=75 and marks <= 84):\n",
    "    print(\"B\")\n",
    "elif (marks>=65 and marks <= 74):\n",
    "    print(\"C\")\n",
    "elif (marks>=55 and marks <= 64):\n",
    "    print(\"D\")\n",
    "elif (marks>=45 and marks <= 54):\n",
    "    print(\"E\")\n",
    "else:\n",
    "    print(\"Need imporvement\")\n"
   ]
  },
  {
   "cell_type": "code",
   "execution_count": null,
   "metadata": {},
   "outputs": [],
   "source": [
    "# Assigment 3 - \n",
    "#Generating computer Score module \n",
    "from random import randint \n",
    "\n",
    "print(\"Computer Generated Team India Cricket Score - \",randint(1,250))\n",
    "computer_generated_team_india_score = randint(1,250)\n",
    "\n",
    "#Guessing module --- \n",
    "user_input = int(input(\"enter your guess \"))\n",
    "\n",
    "#Checking weather the number is near by yes or no \n",
    "diffeence = abs(user_input - computer_generated_team_india_score) >10\n",
    "\n",
    "if ( diffeence <=10 and diffeence >=1):\n",
    "    print(\"you are true indian fan\")\n",
    "else:\n",
    "    print(\"You are far away bro\")\n"
   ]
  },
  {
   "cell_type": "code",
   "execution_count": null,
   "metadata": {},
   "outputs": [],
   "source": [
    "abs(100)"
   ]
  },
  {
   "cell_type": "code",
   "execution_count": null,
   "metadata": {},
   "outputs": [],
   "source": [
    "# Assingment four -- \n",
    "\n",
    "# L, N, W, H\n",
    "# how many times u want to upload a Photo ? \n",
    "n = int(input(\"Enter number of chances you want a user to upload ?\"))\n",
    "\n",
    "#Enter the Lenght size \n",
    "l = int(input(\"Enter the min Lenght ?\"))\n",
    "\n",
    "curent_operation = 0\n",
    "while(curent_operation<n):\n",
    "    curent_operation += 1\n",
    "    \n",
    "    h = int(input(\"Enter ur height of photo ?\"))\n",
    "    w = int(input(\"Enter ur Widht of the photo ?\"))\n",
    "    \n",
    "    if ( h >= l and w >=l):\n",
    "        if(h==w):\n",
    "            print(\"Accepted\")\n",
    "        else:\n",
    "            print(\"Crop it\")\n",
    "    else:\n",
    "        print(\"minimum photo size should be four - \", l )\n",
    "    "
   ]
  },
  {
   "cell_type": "code",
   "execution_count": 4,
   "metadata": {},
   "outputs": [
    {
     "name": "stdout",
     "output_type": "stream",
     "text": [
      "Enter the Command for ankit to move - h\n",
      "Enter valid input, L,R,U,D\n",
      "ankit is here -  0 0\n",
      "Enter the Command for ankit to move - l\n",
      "ankit is here -  -1 0\n",
      "Enter the Command for ankit to move - l\n",
      "ankit is here -  -2 0\n",
      "Enter the Command for ankit to move - l\n",
      "ankit is here -  -3 0\n",
      "Enter the Command for ankit to move - l\n",
      "ankit is here -  -4 0\n",
      "Enter the Command for ankit to move - u\n",
      "ankit is here -  -4 1\n"
     ]
    }
   ],
   "source": [
    "# Assignment 5 \n",
    "\n",
    "ankit_x = 0 \n",
    "ankit_y = 0 \n",
    "\n",
    "max_move = 0\n",
    "\n",
    "while(max_move <= 5):\n",
    "    max_move += 1\n",
    "    command = input(\"Enter the Command for ankit to move - \")\n",
    "    command = command.lower()\n",
    "    \n",
    "    if(command == \"l\"):\n",
    "        ankit_x += -1\n",
    "    elif (command == \"r\"):\n",
    "        ankit_x += +1\n",
    "    elif (command == \"u\"):\n",
    "        ankit_y += 1\n",
    "    elif( command == \"d\"):\n",
    "        ankit_y -= 1\n",
    "    else: \n",
    "        print(\"Enter valid input, L,R,U,D\")\n",
    "    \n",
    "    print(\"ankit is here - \", ankit_x, ankit_y)\n",
    "    "
   ]
  },
  {
   "cell_type": "code",
   "execution_count": null,
   "metadata": {},
   "outputs": [],
   "source": [
    "\n",
    "\n",
    "\n",
    "\n"
   ]
  }
 ],
 "metadata": {
  "kernelspec": {
   "display_name": "Python 3",
   "language": "python",
   "name": "python3"
  },
  "language_info": {
   "codemirror_mode": {
    "name": "ipython",
    "version": 3
   },
   "file_extension": ".py",
   "mimetype": "text/x-python",
   "name": "python",
   "nbconvert_exporter": "python",
   "pygments_lexer": "ipython3",
   "version": "3.7.4"
  }
 },
 "nbformat": 4,
 "nbformat_minor": 2
}
