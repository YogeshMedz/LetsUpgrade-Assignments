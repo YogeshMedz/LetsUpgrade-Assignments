{
 "cells": [
  {
   "cell_type": "code",
   "execution_count": 9,
   "metadata": {},
   "outputs": [],
   "source": [
    "#file operations\n",
    "\n",
    "file=open('sample1.txt','w')\n",
    "file.write(\"sample text at line 1\")\n",
    "file.write(\"line2\")\n",
    "file.close()"
   ]
  },
  {
   "cell_type": "code",
   "execution_count": 10,
   "metadata": {},
   "outputs": [
    {
     "name": "stdout",
     "output_type": "stream",
     "text": [
      "sample text at line 1line2\n"
     ]
    }
   ],
   "source": [
    "#read file\n",
    "\n",
    "file=open('sample1.txt','r')\n",
    "data=file.read()\n",
    "print(data)\n",
    "file.close()"
   ]
  },
  {
   "cell_type": "code",
   "execution_count": 13,
   "metadata": {},
   "outputs": [],
   "source": [
    "#append file\n",
    "\n",
    "file=open('sample1.txt','a')\n",
    "file.write(\"\\nthis is line 3\")\n",
    "file.close()"
   ]
  },
  {
   "cell_type": "code",
   "execution_count": 17,
   "metadata": {},
   "outputs": [
    {
     "name": "stdout",
     "output_type": "stream",
     "text": [
      "a is large\n",
      "True\n",
      "False\n",
      "False\n",
      "True\n"
     ]
    }
   ],
   "source": [
    "#comparizon operators\n",
    "\n",
    "a=12\n",
    "b=11\n",
    "\n",
    "if(a<b):\n",
    "    print(\"a is small\")\n",
    "else:\n",
    "    print(\"a is large\")\n",
    "    \n",
    "print(a>=b)\n",
    "print(a<=b)\n",
    "print(a==b)\n",
    "print(a!=b)"
   ]
  },
  {
   "cell_type": "code",
   "execution_count": 18,
   "metadata": {},
   "outputs": [
    {
     "name": "stdout",
     "output_type": "stream",
     "text": [
      "False\n",
      "True\n"
     ]
    }
   ],
   "source": [
    "#AND and check both conditions\n",
    "a=5\n",
    "b=6\n",
    "\n",
    "print(a>b and a<10)\n",
    "print(a<b and b<10)"
   ]
  },
  {
   "cell_type": "code",
   "execution_count": 20,
   "metadata": {},
   "outputs": [
    {
     "name": "stdout",
     "output_type": "stream",
     "text": [
      "True\n",
      "True\n",
      "False\n"
     ]
    }
   ],
   "source": [
    "#or\n",
    "print(a>b or a<10)\n",
    "print(a<b or b<10)\n",
    "print(a>b or a<3)"
   ]
  },
  {
   "cell_type": "code",
   "execution_count": 23,
   "metadata": {},
   "outputs": [
    {
     "name": "stdout",
     "output_type": "stream",
     "text": [
      "True\n",
      "False\n",
      "False\n",
      "True\n"
     ]
    }
   ],
   "source": [
    "#not\n",
    "\n",
    "data = a<b and b<10\n",
    "print(data)\n",
    "print(not data)\n",
    "data=a>b or a<3\n",
    "print(data)\n",
    "print(not data)"
   ]
  },
  {
   "cell_type": "code",
   "execution_count": 37,
   "metadata": {},
   "outputs": [
    {
     "name": "stdout",
     "output_type": "stream",
     "text": [
      "we cant take class\n"
     ]
    }
   ],
   "source": [
    "sir={\"teach\":\"false\",\"im_free\":\"false\"}\n",
    "\n",
    "if(sir[\"teach\"]==\"true\" and sir[\"im_free\"]==\"false\"):\n",
    "    print(\"sir is teching but student are not free\")\n",
    "elif(sir[\"teach\"]==\"true\" and sir[\"im_free\"]==\"true\"):\n",
    "    print(\"we can take class\")\n",
    "elif(sir[\"teach\"]==\"false\" and sir[\"im_free\"]==\"false\"):\n",
    "    print(\"we cant take class\")"
   ]
  },
  {
   "cell_type": "code",
   "execution_count": 38,
   "metadata": {},
   "outputs": [
    {
     "name": "stdout",
     "output_type": "stream",
     "text": [
      "1\n",
      "2\n",
      "3\n",
      "4\n",
      "5\n",
      "6\n",
      "7\n",
      "8\n",
      "9\n"
     ]
    }
   ],
   "source": [
    "lis=[1,2,3,4,5,6,7,8,9]\n",
    "\n",
    "for els in lis:\n",
    "    print(els)"
   ]
  },
  {
   "cell_type": "code",
   "execution_count": null,
   "metadata": {},
   "outputs": [],
   "source": []
  }
 ],
 "metadata": {
  "kernelspec": {
   "display_name": "Python 3",
   "language": "python",
   "name": "python3"
  },
  "language_info": {
   "codemirror_mode": {
    "name": "ipython",
    "version": 3
   },
   "file_extension": ".py",
   "mimetype": "text/x-python",
   "name": "python",
   "nbconvert_exporter": "python",
   "pygments_lexer": "ipython3",
   "version": "3.7.6"
  }
 },
 "nbformat": 4,
 "nbformat_minor": 4
}
