{
 "cells": [
  {
   "cell_type": "code",
   "execution_count": null,
   "metadata": {},
   "outputs": [],
   "source": [
    "def name_of_function():\n",
    "    '''\n",
    "    This function actually does only printing of hello\n",
    "    '''\n",
    "    \n",
    "    print(\"Hello\")\n",
    "    \n",
    "    \n",
    "    \n",
    "name_of_function()"
   ]
  },
  {
   "cell_type": "code",
   "execution_count": null,
   "metadata": {},
   "outputs": [],
   "source": [
    "type(name_of_function())"
   ]
  },
  {
   "cell_type": "code",
   "execution_count": null,
   "metadata": {},
   "outputs": [],
   "source": [
    "help(name_of_function)"
   ]
  },
  {
   "cell_type": "code",
   "execution_count": null,
   "metadata": {},
   "outputs": [],
   "source": [
    "#Lets experiment with return keyword\n",
    "\n",
    "def addition(number1,number2):\n",
    "    add = number1 + number2\n",
    "    return add"
   ]
  },
  {
   "cell_type": "code",
   "execution_count": null,
   "metadata": {},
   "outputs": [],
   "source": [
    "my_Addition = addition(1,3)\n",
    "\n",
    "print(my_Addition)"
   ]
  },
  {
   "cell_type": "code",
   "execution_count": null,
   "metadata": {},
   "outputs": [],
   "source": [
    "my_Addition = addition(100,9897)\n",
    "\n",
    "print(my_Addition)"
   ]
  },
  {
   "cell_type": "code",
   "execution_count": null,
   "metadata": {},
   "outputs": [],
   "source": [
    "#Lets experiment with return keyword\n",
    "\n",
    "def addition(number1,number2):\n",
    "    add = number1 + number2 \n",
    "    return add\n",
    "\n",
    "\n",
    "#ur program \n",
    "num1 = int(input(\"My first Number \"))\n",
    "num2 = int(input(\"My second Number\"))\n",
    "\n",
    "sume = addition(num1,num2)\n",
    "\n",
    "print(sume)\n",
    "\n"
   ]
  },
  {
   "cell_type": "code",
   "execution_count": null,
   "metadata": {},
   "outputs": [],
   "source": [
    "def check_odd_even(number_to_check):\n",
    "    if (number_to_check % 2 == 0):\n",
    "        return \"Even\"\n",
    "    else: \n",
    "        return \"Odd\"\n",
    "    \n",
    "    \n",
    "#ur program block - \n",
    "\n",
    "number = int(input(\"Enter your number for checking is it odd or even\"))\n",
    "\n",
    "print(check_odd_even(number))"
   ]
  },
  {
   "cell_type": "code",
   "execution_count": null,
   "metadata": {},
   "outputs": [],
   "source": [
    "40 / 3"
   ]
  },
  {
   "cell_type": "code",
   "execution_count": null,
   "metadata": {},
   "outputs": [],
   "source": [
    "40 % 3 "
   ]
  },
  {
   "cell_type": "code",
   "execution_count": null,
   "metadata": {},
   "outputs": [],
   "source": [
    "39 /3 \n"
   ]
  },
  {
   "cell_type": "code",
   "execution_count": 2,
   "metadata": {},
   "outputs": [
    {
     "name": "stdout",
     "output_type": "stream",
     "text": [
      "Enter ur Dgree cel45\n",
      "113.0\n",
      "Enter ur Dgree Far113\n",
      "45.0\n"
     ]
    }
   ],
   "source": [
    "# converting degree celsius to defree farinate - \n",
    "\n",
    "#f  = 9/5*c + 32 \n",
    "\n",
    "def convert_to_far(degree_cel):\n",
    "    degree_fa = (9/5)*degree_cel + 32\n",
    "    return degree_fa\n",
    "\n",
    "def convert_to_cel(degree_far):\n",
    "    degree_ca = (degree_far -32)\n",
    "    degree_ca = degree_ca* (5/9)\n",
    "\n",
    "    return degree_ca\n",
    "\n",
    "#Ur prgromming block - \n",
    "\n",
    "\n",
    "cel = int(input(\"Enter ur Dgree cel\"))\n",
    "\n",
    "print(convert_to_far(cel))\n",
    "    \n",
    "    \n",
    "Far = int(input(\"Enter ur Dgree Far\"))\n",
    "\n",
    "print(convert_to_cel(Far))\n",
    "    \n",
    "    "
   ]
  },
  {
   "cell_type": "code",
   "execution_count": 3,
   "metadata": {},
   "outputs": [
    {
     "name": "stdout",
     "output_type": "stream",
     "text": [
      "hello\n",
      "hi\n",
      "are understanding\n"
     ]
    }
   ],
   "source": [
    "#*args && **kwargs \n",
    "\n",
    "def my_args (*args):\n",
    "    for arg in args:\n",
    "        print(arg)\n",
    "\n",
    "my_args(\"hello\",\"hi\",\"are understanding\")\n"
   ]
  },
  {
   "cell_type": "code",
   "execution_count": 13,
   "metadata": {},
   "outputs": [
    {
     "name": "stdout",
     "output_type": "stream",
     "text": [
      "firstname sai\n",
      "lastname s\n",
      "email sai@itm.edu\n"
     ]
    }
   ],
   "source": [
    "#**kwargs \n",
    "\n",
    "def my_kwargs(**kwargs):\n",
    "    for key,value in kwargs.items():\n",
    "        print(key,value)\n",
    "        \n",
    "my_kwargs(firstname = \"sai\",lastname = \"s\",email = \"sai@itm.edu\")\n"
   ]
  },
  {
   "cell_type": "code",
   "execution_count": null,
   "metadata": {},
   "outputs": [],
   "source": []
  }
 ],
 "metadata": {
  "kernelspec": {
   "display_name": "Python 3",
   "language": "python",
   "name": "python3"
  },
  "language_info": {
   "codemirror_mode": {
    "name": "ipython",
    "version": 3
   },
   "file_extension": ".py",
   "mimetype": "text/x-python",
   "name": "python",
   "nbconvert_exporter": "python",
   "pygments_lexer": "ipython3",
   "version": "3.7.4"
  }
 },
 "nbformat": 4,
 "nbformat_minor": 2
}
