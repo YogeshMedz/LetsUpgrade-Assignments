{
 "cells": [
  {
   "cell_type": "code",
   "execution_count": 3,
   "metadata": {},
   "outputs": [
    {
     "name": "stdout",
     "output_type": "stream",
     "text": [
      "Enter your marks - 86\n"
     ]
    },
    {
     "data": {
      "text/plain": [
       "int"
      ]
     },
     "execution_count": 3,
     "metadata": {},
     "output_type": "execute_result"
    }
   ],
   "source": [
    "# take an input -- \n",
    "\n",
    "marks = int(input(\"Enter your marks - \"))\n",
    "\n",
    "type(marks)"
   ]
  },
  {
   "cell_type": "code",
   "execution_count": 4,
   "metadata": {},
   "outputs": [
    {
     "name": "stdout",
     "output_type": "stream",
     "text": [
      "A\n"
     ]
    }
   ],
   "source": [
    "# Compare it with if elif and else \n",
    "\n",
    "\n",
    "if marks >= 85 :\n",
    "    print(\"A\")\n",
    "elif marks >= 75 and marks<= 84:\n",
    "    print(\"B\")\n",
    "elif marks >= 65 and marks<= 74:\n",
    "    print(\"C\")\n",
    "elif marks >= 55 and marks<= 64:\n",
    "    print(\"D\")\n",
    "elif marks >= 45 and marks<= 54:\n",
    "    print(\"E\")\n",
    "else:\n",
    "    print(\"Fail - Try again\")"
   ]
  },
  {
   "cell_type": "code",
   "execution_count": 32,
   "metadata": {},
   "outputs": [
    {
     "name": "stdout",
     "output_type": "stream",
     "text": [
      "76\n"
     ]
    }
   ],
   "source": [
    "# Guess Team India Score - \n",
    "\n",
    "#Step 1 - Genrate a computer score of Team India in between 1 to 250\n",
    "\n",
    "import random\n",
    "\n",
    "computer_gen_score = random.randint(1,250)\n",
    "\n",
    "print(computer_gen_score)"
   ]
  },
  {
   "cell_type": "code",
   "execution_count": 33,
   "metadata": {},
   "outputs": [
    {
     "name": "stdout",
     "output_type": "stream",
     "text": [
      "Enter ur guessing score - in between 1 to 250 - 85\n",
      "85\n"
     ]
    },
    {
     "data": {
      "text/plain": [
       "int"
      ]
     },
     "execution_count": 33,
     "metadata": {},
     "output_type": "execute_result"
    }
   ],
   "source": [
    "#Step 2 - Take a input of the user - \n",
    "\n",
    "user_score = int(input(\"Enter ur guessing score - in between 1 to 250 - \"))\n",
    "\n",
    "print(user_score)\n",
    "type(user_score)\n"
   ]
  },
  {
   "cell_type": "code",
   "execution_count": 34,
   "metadata": {},
   "outputs": [
    {
     "name": "stdout",
     "output_type": "stream",
     "text": [
      "Ok to go ahead\n"
     ]
    }
   ],
   "source": [
    "# Step 3 is checking the number is in between 1 to 250 yes or no \n",
    "\n",
    "if user_score > 250 and user_score<1 :\n",
    "    print(\"Reduce your expectation for 20-20 Cricket\")\n",
    "else:\n",
    "    print(\"Ok to go ahead\")"
   ]
  },
  {
   "cell_type": "code",
   "execution_count": 35,
   "metadata": {},
   "outputs": [],
   "source": [
    "#Step 4 - Check the Comp. gen and User input and see if they are in the \n",
    "#matching range \n",
    "\n",
    "check_range = computer_gen_score - user_score\n",
    "\n",
    "check_range = abs(check_range)\n",
    "\n"
   ]
  },
  {
   "cell_type": "code",
   "execution_count": 36,
   "metadata": {},
   "outputs": [
    {
     "name": "stdout",
     "output_type": "stream",
     "text": [
      "you are true Team India Fan\n"
     ]
    }
   ],
   "source": [
    "#step 5 - Check if the range_score is less than 10 and print accordingly \n",
    "\n",
    "if check_range <= 10 and check_range>=1:\n",
    "    print(\"you are true Team India Fan\")\n",
    "else:\n",
    "    print(\"You are not true Team India Fan\")"
   ]
  },
  {
   "cell_type": "code",
   "execution_count": null,
   "metadata": {},
   "outputs": [],
   "source": []
  }
 ],
 "metadata": {
  "kernelspec": {
   "display_name": "Python 3",
   "language": "python",
   "name": "python3"
  },
  "language_info": {
   "codemirror_mode": {
    "name": "ipython",
    "version": 3
   },
   "file_extension": ".py",
   "mimetype": "text/x-python",
   "name": "python",
   "nbconvert_exporter": "python",
   "pygments_lexer": "ipython3",
   "version": "3.7.4"
  }
 },
 "nbformat": 4,
 "nbformat_minor": 2
}
