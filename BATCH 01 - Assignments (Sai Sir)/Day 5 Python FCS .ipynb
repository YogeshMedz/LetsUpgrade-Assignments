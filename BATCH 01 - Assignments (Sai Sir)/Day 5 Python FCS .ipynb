{
 "cells": [
  {
   "cell_type": "code",
   "execution_count": 1,
   "metadata": {},
   "outputs": [],
   "source": [
    "# MAP - \n",
    "\n",
    "\n",
    "def cube(x):\n",
    "    return x * x * x"
   ]
  },
  {
   "cell_type": "code",
   "execution_count": 2,
   "metadata": {},
   "outputs": [
    {
     "data": {
      "text/plain": [
       "27"
      ]
     },
     "execution_count": 2,
     "metadata": {},
     "output_type": "execute_result"
    }
   ],
   "source": [
    "cube(3)"
   ]
  },
  {
   "cell_type": "code",
   "execution_count": 4,
   "metadata": {},
   "outputs": [
    {
     "data": {
      "text/plain": [
       "[1, 8, 27, 64, 125, 216]"
      ]
     },
     "execution_count": 4,
     "metadata": {},
     "output_type": "execute_result"
    }
   ],
   "source": [
    "lst = [1,2,3,4,5,6]\n",
    "\n",
    "list(map(cube,lst))"
   ]
  },
  {
   "cell_type": "code",
   "execution_count": 5,
   "metadata": {},
   "outputs": [],
   "source": [
    "# Filter - \n",
    "\n",
    "def even_odd(x):\n",
    "    return x%2 == 0 "
   ]
  },
  {
   "cell_type": "code",
   "execution_count": 7,
   "metadata": {},
   "outputs": [
    {
     "data": {
      "text/plain": [
       "True"
      ]
     },
     "execution_count": 7,
     "metadata": {},
     "output_type": "execute_result"
    }
   ],
   "source": [
    "even_odd(2)"
   ]
  },
  {
   "cell_type": "code",
   "execution_count": 9,
   "metadata": {},
   "outputs": [
    {
     "data": {
      "text/plain": [
       "[2, 4, 6]"
      ]
     },
     "execution_count": 9,
     "metadata": {},
     "output_type": "execute_result"
    }
   ],
   "source": [
    "list(filter(even_odd,lst))"
   ]
  },
  {
   "cell_type": "code",
   "execution_count": 10,
   "metadata": {},
   "outputs": [],
   "source": [
    "# Lambda \n",
    "def cube(x):\n",
    "    return x * x * x\n",
    "\n",
    "cube1 = lambda x :  x * x * x\n"
   ]
  },
  {
   "cell_type": "code",
   "execution_count": 11,
   "metadata": {},
   "outputs": [
    {
     "data": {
      "text/plain": [
       "27"
      ]
     },
     "execution_count": 11,
     "metadata": {},
     "output_type": "execute_result"
    }
   ],
   "source": [
    "cube1(3)"
   ]
  },
  {
   "cell_type": "code",
   "execution_count": 12,
   "metadata": {},
   "outputs": [
    {
     "data": {
      "text/plain": [
       "[1, 8, 27, 64, 125, 216]"
      ]
     },
     "execution_count": 12,
     "metadata": {},
     "output_type": "execute_result"
    }
   ],
   "source": [
    "list(map(lambda x : x * x * x,lst))"
   ]
  },
  {
   "cell_type": "code",
   "execution_count": 13,
   "metadata": {},
   "outputs": [
    {
     "data": {
      "text/plain": [
       "[2, 4, 6]"
      ]
     },
     "execution_count": 13,
     "metadata": {},
     "output_type": "execute_result"
    }
   ],
   "source": [
    "list(filter(lambda x : x%2 == 0 ,lst))"
   ]
  },
  {
   "cell_type": "code",
   "execution_count": 15,
   "metadata": {},
   "outputs": [
    {
     "ename": "IndentationError",
     "evalue": "unindent does not match any outer indentation level (<tokenize>, line 7)",
     "output_type": "error",
     "traceback": [
      "\u001b[0;36m  File \u001b[0;32m\"<tokenize>\"\u001b[0;36m, line \u001b[0;32m7\u001b[0m\n\u001b[0;31m    self.param1 = param1\u001b[0m\n\u001b[0m    ^\u001b[0m\n\u001b[0;31mIndentationError\u001b[0m\u001b[0;31m:\u001b[0m unindent does not match any outer indentation level\n"
     ]
    }
   ],
   "source": [
    "#Class in Python\n",
    "\n",
    "class NameOfClass():\n",
    "\t\n",
    "\n",
    "     def __init__(self,param1,param2):\n",
    "\t\tself.param1 = param1\n",
    "\t\tself.param2 = param2\n",
    "\t\n",
    "\tdef some_method(self):\n",
    "\t\t# perform some action\n",
    "\t\tprint(self.param1)"
   ]
  },
  {
   "cell_type": "code",
   "execution_count": 22,
   "metadata": {},
   "outputs": [],
   "source": [
    "# Sample Class - \n",
    "\n",
    "class vipin():\n",
    "    pass\n",
    "\n",
    "v = vipin()"
   ]
  },
  {
   "cell_type": "code",
   "execution_count": 23,
   "metadata": {},
   "outputs": [
    {
     "data": {
      "text/plain": [
       "__main__.vipin"
      ]
     },
     "execution_count": 23,
     "metadata": {},
     "output_type": "execute_result"
    }
   ],
   "source": [
    "type(v)"
   ]
  },
  {
   "cell_type": "code",
   "execution_count": 60,
   "metadata": {},
   "outputs": [],
   "source": [
    "#cycle class \n",
    "\n",
    "class cycle():\n",
    "    \n",
    "    name = \"\"\n",
    "    \n",
    "    def __init__(self,name=\"madrock\"):\n",
    "        self.name = name\n"
   ]
  },
  {
   "cell_type": "code",
   "execution_count": 58,
   "metadata": {},
   "outputs": [],
   "source": [
    "altas = cycle()"
   ]
  },
  {
   "cell_type": "code",
   "execution_count": 59,
   "metadata": {},
   "outputs": [
    {
     "data": {
      "text/plain": [
       "'madrock'"
      ]
     },
     "execution_count": 59,
     "metadata": {},
     "output_type": "execute_result"
    }
   ],
   "source": [
    "altas.name"
   ]
  },
  {
   "cell_type": "code",
   "execution_count": 51,
   "metadata": {},
   "outputs": [],
   "source": [
    "montainbike = cycle()"
   ]
  },
  {
   "cell_type": "code",
   "execution_count": 43,
   "metadata": {},
   "outputs": [
    {
     "data": {
      "text/plain": [
       "'madrock'"
      ]
     },
     "execution_count": 43,
     "metadata": {},
     "output_type": "execute_result"
    }
   ],
   "source": [
    "montainbike.name"
   ]
  },
  {
   "cell_type": "code",
   "execution_count": 74,
   "metadata": {},
   "outputs": [],
   "source": [
    "class movie():\n",
    "    movie_name = \"\"\n",
    "    releaseDate = \"\"\n",
    "    actors = \"\"\n",
    "    director = \"\"\n",
    "    producers = \"\"\n",
    "    IMBD_rating = 0\n",
    "    budget = \"\"\n",
    "    \n",
    "    def __init__(self,movie_name, releaseDate, actors,director, producers,IMBD_rating, budget):\n",
    "        self.movie_name = movie_name\n",
    "        self.releaseDate = releaseDate\n",
    "        self.actors = actors\n",
    "        self.director = director\n",
    "        self.producers = producers\n",
    "        self.IMBD_rating = IMBD_rating\n",
    "        self.budget = budget\n",
    "        \n",
    "    def getBasicsDetails(self):\n",
    "        return {\"movie_name\":self.movie_name, \"IMBD_rating\":self.IMBD_rating}\n",
    "    \n",
    "    def getTheBudget(self):\n",
    "        return self.budget\n",
    "    \n",
    "    def setActors(self,actors):\n",
    "        self.actors = actors\n",
    "        "
   ]
  },
  {
   "cell_type": "code",
   "execution_count": 70,
   "metadata": {},
   "outputs": [],
   "source": [
    "harryPotter = movie(\"harry Potter - goblet of fire\", \"12-9-1999\",\"Dainel Radcliff\",\"Some director\" ,\"You All\", 8.9,\"150 CR\")"
   ]
  },
  {
   "cell_type": "code",
   "execution_count": 71,
   "metadata": {},
   "outputs": [
    {
     "data": {
      "text/plain": [
       "{'movie_name': 'harry Potter - goblet of fire', 'IMBD_rating': 8.9}"
      ]
     },
     "execution_count": 71,
     "metadata": {},
     "output_type": "execute_result"
    }
   ],
   "source": [
    "harryPotter.getBasicsDetails()"
   ]
  },
  {
   "cell_type": "code",
   "execution_count": 72,
   "metadata": {},
   "outputs": [],
   "source": [
    "harryPotter.setActors(\"Dainel and You Guys\")"
   ]
  },
  {
   "cell_type": "code",
   "execution_count": 73,
   "metadata": {},
   "outputs": [
    {
     "data": {
      "text/plain": [
       "'Dainel and You Guys'"
      ]
     },
     "execution_count": 73,
     "metadata": {},
     "output_type": "execute_result"
    }
   ],
   "source": [
    "harryPotter.actors"
   ]
  },
  {
   "cell_type": "markdown",
   "metadata": {},
   "source": [
    "# Inheritance "
   ]
  },
  {
   "cell_type": "code",
   "execution_count": 75,
   "metadata": {},
   "outputs": [],
   "source": [
    "#Base Class \n",
    "class Dog:\n",
    "    def __init__ (self,name):\n",
    "        self.name = name\n",
    "        print(self.name +\" Dog got created\")\n",
    "        \n",
    "    def talk(self):\n",
    "        return self.name + ' Says Bow Bow'\n",
    "    \n",
    "\n",
    "#Dereived Class 1\n",
    "class Doberman(Dog):\n",
    "    def __init__(self):\n",
    "        Dog.__init__(self,'doberman')\n",
    "        print(\"Doberman Got Created\")\n",
    "    \n",
    "    def drink(self):\n",
    "        print(\"Doberman Drinks Proiten Shake !\")\n",
    "        \n",
    "    def heigh(self):\n",
    "        print(\" Minimum height is 1 Meter\")\n",
    "        \n",
    "#Dereived Class 2\n",
    "class pug(Dog):\n",
    "    def __init__(self):\n",
    "        Dog.__init__(self,'pug')\n",
    "        print(\"Pugg Got Created\")\n",
    "    \n",
    "    def drink(self):\n",
    "        print(\"Pugg Drinks Water !\")\n",
    "        \n",
    "    def lenght(self):\n",
    "        print(\"Pugg lenght is - 0.5 meter\")"
   ]
  },
  {
   "cell_type": "code",
   "execution_count": 76,
   "metadata": {},
   "outputs": [
    {
     "name": "stdout",
     "output_type": "stream",
     "text": [
      "pug Dog got created\n",
      "Pugg Got Created\n"
     ]
    }
   ],
   "source": [
    "sally = pug()"
   ]
  },
  {
   "cell_type": "code",
   "execution_count": 80,
   "metadata": {},
   "outputs": [
    {
     "name": "stdout",
     "output_type": "stream",
     "text": [
      "Pugg lenght is - 0.5 meter\n"
     ]
    }
   ],
   "source": [
    "sally.lenght()"
   ]
  },
  {
   "cell_type": "code",
   "execution_count": 81,
   "metadata": {},
   "outputs": [
    {
     "name": "stdout",
     "output_type": "stream",
     "text": [
      "Pugg Drinks Water !\n"
     ]
    }
   ],
   "source": [
    "sally.drink()"
   ]
  },
  {
   "cell_type": "code",
   "execution_count": 82,
   "metadata": {},
   "outputs": [
    {
     "data": {
      "text/plain": [
       "'pug Says Bow Bow'"
      ]
     },
     "execution_count": 82,
     "metadata": {},
     "output_type": "execute_result"
    }
   ],
   "source": [
    "sally.talk()"
   ]
  },
  {
   "cell_type": "code",
   "execution_count": 83,
   "metadata": {},
   "outputs": [
    {
     "name": "stdout",
     "output_type": "stream",
     "text": [
      "doberman Dog got created\n",
      "Doberman Got Created\n"
     ]
    }
   ],
   "source": [
    "Viz = Doberman()"
   ]
  },
  {
   "cell_type": "code",
   "execution_count": 84,
   "metadata": {},
   "outputs": [
    {
     "data": {
      "text/plain": [
       "'doberman Says Bow Bow'"
      ]
     },
     "execution_count": 84,
     "metadata": {},
     "output_type": "execute_result"
    }
   ],
   "source": [
    "Viz.talk()"
   ]
  },
  {
   "cell_type": "code",
   "execution_count": 85,
   "metadata": {},
   "outputs": [
    {
     "name": "stdout",
     "output_type": "stream",
     "text": [
      " Minimum height is 1 Meter\n"
     ]
    }
   ],
   "source": [
    "Viz.heigh()"
   ]
  },
  {
   "cell_type": "code",
   "execution_count": 87,
   "metadata": {},
   "outputs": [
    {
     "data": {
      "text/plain": [
       "'doberman Says Bow Bow'"
      ]
     },
     "execution_count": 87,
     "metadata": {},
     "output_type": "execute_result"
    }
   ],
   "source": [
    "Viz.talk()"
   ]
  },
  {
   "cell_type": "code",
   "execution_count": null,
   "metadata": {},
   "outputs": [],
   "source": []
  }
 ],
 "metadata": {
  "kernelspec": {
   "display_name": "Python 3",
   "language": "python",
   "name": "python3"
  },
  "language_info": {
   "codemirror_mode": {
    "name": "ipython",
    "version": 3
   },
   "file_extension": ".py",
   "mimetype": "text/x-python",
   "name": "python",
   "nbconvert_exporter": "python",
   "pygments_lexer": "ipython3",
   "version": "3.7.4"
  }
 },
 "nbformat": 4,
 "nbformat_minor": 2
}
